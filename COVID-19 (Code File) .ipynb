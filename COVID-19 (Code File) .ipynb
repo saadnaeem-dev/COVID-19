{
 "cells": [
  {
   "cell_type": "markdown",
   "metadata": {},
   "source": [
    "### Required Installations "
   ]
  },
  {
   "cell_type": "code",
   "execution_count": null,
   "metadata": {},
   "outputs": [],
   "source": [
    "# pip install pystan\n",
    "# pip install fbprophet\n",
    "# pip install seaborn\n",
    "# pip install pandas\n",
    "# pip install numpy\n",
    "# pip install matplotlib\n",
    "#pip install plotly"
   ]
  },
  {
   "cell_type": "markdown",
   "metadata": {},
   "source": [
    "### Imports"
   ]
  },
  {
   "cell_type": "code",
   "execution_count": null,
   "metadata": {},
   "outputs": [],
   "source": [
    "import pandas as pd\n",
    "import numpy as np\n",
    "from datetime import datetime, timedelta\n",
    "\n",
    "%matplotlib inline\n",
    "import matplotlib.pyplot as plt\n",
    "plt.style.use('fivethirtyeight')\n",
    "import seaborn as sns\n",
    "import plotly.express as px\n",
    "from fbprophet.plot import plot_plotly\n",
    "import plotly.offline as py\n",
    "import plotly.graph_objs as go\n",
    "from ipywidgets import interact, widgets\n",
    "from IPython import display\n",
    "\n",
    "import warnings\n",
    "warnings.filterwarnings('ignore')\n",
    "\n",
    "from fbprophet import Prophet\n",
    "from fbprophet.diagnostics import cross_validation\n",
    "from fbprophet.diagnostics import performance_metrics\n",
    "from fbprophet.plot import plot_cross_validation_metric"
   ]
  },
  {
   "cell_type": "markdown",
   "metadata": {},
   "source": [
    "### Loading Data"
   ]
  },
  {
   "cell_type": "code",
   "execution_count": null,
   "metadata": {},
   "outputs": [],
   "source": [
    "covid_data = pd.read_csv('COVID-19.csv')\n",
    "covid_data['day'] = pd.to_datetime(covid_data['day'], format=\"%Y/%m/%d\")"
   ]
  },
  {
   "cell_type": "markdown",
   "metadata": {},
   "source": [
    "## 1) On a given day find top 20 countries with most confirmed, most deaths, & most recovered"
   ]
  },
  {
   "cell_type": "markdown",
   "metadata": {},
   "source": [
    "### Specify date in yyyy-mm-dd order"
   ]
  },
  {
   "cell_type": "code",
   "execution_count": null,
   "metadata": {},
   "outputs": [],
   "source": [
    "Given_Day = covid_data[covid_data['day']=='2020-04-10']"
   ]
  },
  {
   "cell_type": "markdown",
   "metadata": {},
   "source": [
    "### Top 20 Countries with most Deaths\n",
    "#### On a given day get the max for a country and sort it"
   ]
  },
  {
   "cell_type": "code",
   "execution_count": null,
   "metadata": {},
   "outputs": [],
   "source": [
    "Given_Day_Deaths = Given_Day[['Country Name', 'Deaths']].copy()\n",
    "given_day_top_20_deaths=Given_Day_Deaths.groupby([\"Country Name\"]).max().sort_values(by=['Deaths'], ascending=False)\n",
    "given_day_top_20_deaths.head(20)"
   ]
  },
  {
   "cell_type": "markdown",
   "metadata": {},
   "source": [
    "#### Plotting the top 20 countries with most deaths on the given day"
   ]
  },
  {
   "cell_type": "code",
   "execution_count": null,
   "metadata": {},
   "outputs": [],
   "source": [
    "Deaths_Bar_Graph = given_day_top_20_deaths.head(20)\n",
    "Deaths_Bar_Graph['Country_Name'] = Deaths_Bar_Graph.index\n",
    "Deaths = px.bar(Deaths_Bar_Graph,x='Country_Name',y=\"Deaths\",color='Country_Name', title='Top 20 countries with most deaths on a given day')\n",
    "Deaths.show()"
   ]
  },
  {
   "cell_type": "markdown",
   "metadata": {},
   "source": [
    "### Top 20 Most Infected on a Given Day"
   ]
  },
  {
   "cell_type": "code",
   "execution_count": null,
   "metadata": {},
   "outputs": [],
   "source": [
    "Given_Day_Infected = Given_Day[['Country Name', 'Confirmed']].copy()\n",
    "given_day_top_20_infected=Given_Day_Infected.groupby([\"Country Name\"]).max().sort_values(by=['Confirmed'], ascending=False)\n",
    "given_day_top_20_infected.head(20)"
   ]
  },
  {
   "cell_type": "markdown",
   "metadata": {},
   "source": [
    "#### Plotting the top 20 countries with most Infected on a given day"
   ]
  },
  {
   "cell_type": "code",
   "execution_count": null,
   "metadata": {},
   "outputs": [],
   "source": [
    "Infected_Bar_Graph = given_day_top_20_infected.head(20)\n",
    "Infected_Bar_Graph['Country_Name'] = Infected_Bar_Graph.index\n",
    "Infected = px.bar(Infected_Bar_Graph,x='Country_Name',y=\"Confirmed\", color ='Country_Name', title= \"Top 20 Most Infected Countries\")\n",
    "Infected.show()"
   ]
  },
  {
   "cell_type": "markdown",
   "metadata": {},
   "source": [
    "### Top 20 Most Recovered on a Given Day"
   ]
  },
  {
   "cell_type": "code",
   "execution_count": null,
   "metadata": {},
   "outputs": [],
   "source": [
    "Given_Day_Recovered = Given_Day[['Country Name', 'Deaths','Confirmed']].copy()\n",
    "Given_Day_Recovered = Given_Day_Recovered.groupby([\"Country Name\"]).sum(axis = 1, skipna = True)\n",
    "Given_Day_Recovered.sort_values(by=['Confirmed'], ascending=False, inplace=True)\n",
    "Given_Day_Recovered['Death_Rate'] = (Given_Day_Recovered['Deaths']/Given_Day_Recovered['Confirmed'])\n",
    "Given_Day_Recovered['Recovery_Rate'] = 1 - Given_Day_Recovered['Death_Rate']\n",
    "Given_Day_Recovered['Recovered'] = Given_Day_Recovered['Confirmed'] * Given_Day_Recovered['Recovery_Rate']\n",
    "given_day_top_20_recovered = Given_Day_Recovered.head(20)\n",
    "given_day_top_20_recovered.sort_values(by=['Recovered'], ascending=False, inplace=True)\n",
    "given_day_top_20_recovered.head(20)"
   ]
  },
  {
   "cell_type": "markdown",
   "metadata": {},
   "source": [
    "### <font color='red'> The above stats means that if Infection Fatality Rate </font>i.e Deaths/Cases = 2.3%<font color='red'> then 2.3% of people infected with Covid-19 have a fatal outcome while 100 - 2.3 = 97.7% of the people recover, hence the Recovered stat is based on this assumption </font>"
   ]
  },
  {
   "cell_type": "markdown",
   "metadata": {},
   "source": [
    "#### Plotting the top 20 countries with most Recovered"
   ]
  },
  {
   "cell_type": "code",
   "execution_count": null,
   "metadata": {},
   "outputs": [],
   "source": [
    "Recovered_Bar_Graph = given_day_top_20_recovered\n",
    "Recovered_Bar_Graph['Country_Name'] = Recovered_Bar_Graph.index\n",
    "Recovered = px.bar(Recovered_Bar_Graph,x='Country_Name',y=\"Recovered\", color ='Country_Name', title = \"Top 20 Countries with Most Recovered\")\n",
    "Recovered.show()"
   ]
  },
  {
   "cell_type": "markdown",
   "metadata": {},
   "source": [
    "## 2) Countries with highest new cases and new deaths Between Two dates"
   ]
  },
  {
   "cell_type": "markdown",
   "metadata": {},
   "source": [
    "### Please enter the date in yyyy-mm-dd format"
   ]
  },
  {
   "cell_type": "code",
   "execution_count": null,
   "metadata": {},
   "outputs": [],
   "source": [
    "start_date = '2020-02-15'\n",
    "end_date = '2020-04-10'"
   ]
  },
  {
   "cell_type": "markdown",
   "metadata": {},
   "source": [
    "### Highest Deaths Between Two Dates"
   ]
  },
  {
   "cell_type": "code",
   "execution_count": null,
   "metadata": {},
   "outputs": [],
   "source": [
    "mask = (covid_data['day'] >= start_date) & (covid_data['day'] <= end_date)\n",
    "between_dates = covid_data.loc[mask]\n",
    "Highest_Deaths = between_dates[['Country Name', 'Deaths']].copy()\n",
    "Highest_Deaths = Highest_Deaths.groupby([\"Country Name\"]).sum(axis = 1, skipna = True)\n",
    "Highest_Deaths.sort_values(by=['Deaths'], ascending=False, inplace=True)\n",
    "Highest_Deaths.head(20)"
   ]
  },
  {
   "cell_type": "markdown",
   "metadata": {},
   "source": [
    "#### Plotting the above data"
   ]
  },
  {
   "cell_type": "code",
   "execution_count": null,
   "metadata": {},
   "outputs": [],
   "source": [
    "Btw_Dat_Hi_De_Bar_Gph = Highest_Deaths.head(20)\n",
    "Btw_Dat_Hi_De_Bar_Gph['Country_Name'] = Btw_Dat_Hi_De_Bar_Gph.index\n",
    "Graph = px.bar(Btw_Dat_Hi_De_Bar_Gph,x='Country_Name',y=\"Deaths\",color='Country_Name', title = 'Highest Deaths between 2020-02-15 and 2020-04-10')\n",
    "Graph.show()"
   ]
  },
  {
   "cell_type": "markdown",
   "metadata": {},
   "source": [
    "### Highest Infections Between the provided Dates"
   ]
  },
  {
   "cell_type": "code",
   "execution_count": null,
   "metadata": {},
   "outputs": [],
   "source": [
    "Highest_Infections = between_dates[['Country Name', 'Confirmed']].copy()\n",
    "Highest_Infections = Highest_Infections.groupby([\"Country Name\"]).sum(axis = 1, skipna = True)\n",
    "Highest_Infections.sort_values(by=['Confirmed'], ascending=False, inplace=True)\n",
    "Highest_Infections.head(20)"
   ]
  },
  {
   "cell_type": "markdown",
   "metadata": {},
   "source": [
    "#### Plotting the above data"
   ]
  },
  {
   "cell_type": "code",
   "execution_count": null,
   "metadata": {},
   "outputs": [],
   "source": [
    "Btw_Dat_Hi_In_Bar_Gph = Highest_Infections.head(20)\n",
    "Btw_Dat_Hi_In_Bar_Gph['Country_Name'] = Btw_Dat_Hi_In_Bar_Gph.index\n",
    "Infection_Graph_Bw_Dates = px.bar(Btw_Dat_Hi_In_Bar_Gph,x='Country_Name',y=\"Confirmed\" ,color='Country_Name', title='Highest new cases from 2020-02-15 to 2020-04-10')\n",
    "Infection_Graph_Bw_Dates.show()"
   ]
  },
  {
   "cell_type": "markdown",
   "metadata": {},
   "source": [
    "## 3) Find the starting and ending days of the longest spread period for a given country"
   ]
  },
  {
   "cell_type": "code",
   "execution_count": null,
   "metadata": {},
   "outputs": [],
   "source": [
    "Splice_Data = covid_data[['day','Country Name','Confirmed']].copy()"
   ]
  },
  {
   "cell_type": "markdown",
   "metadata": {},
   "source": [
    "### Please enter the Country Name"
   ]
  },
  {
   "cell_type": "code",
   "execution_count": null,
   "metadata": {},
   "outputs": [],
   "source": [
    "Country_Mask = Splice_Data['Country Name'] == 'Italy'"
   ]
  },
  {
   "cell_type": "markdown",
   "metadata": {},
   "source": [
    "#### Seperating out the data for the given country"
   ]
  },
  {
   "cell_type": "code",
   "execution_count": null,
   "metadata": {},
   "outputs": [],
   "source": [
    "Given_Country_Curve = Splice_Data[Country_Mask]"
   ]
  },
  {
   "cell_type": "markdown",
   "metadata": {},
   "source": [
    "#### Plotting out the curve to get visual representation"
   ]
  },
  {
   "cell_type": "code",
   "execution_count": null,
   "metadata": {},
   "outputs": [],
   "source": [
    "Curve = px.line(Given_Country_Curve, x='day', y='Confirmed', title =\"Original Curve\")\n",
    "Curve.show()"
   ]
  },
  {
   "cell_type": "code",
   "execution_count": null,
   "metadata": {},
   "outputs": [],
   "source": [
    "# Creating an empty dataframe\n",
    "Longest_Spread = pd.DataFrame(columns=('day', 'Country Name', 'Confirmed'))\n",
    "#Longest_Spread.head()\n",
    "Given_Country_Curve = Given_Country_Curve.reset_index()\n",
    "#len(Given_Country_Curve.index)"
   ]
  },
  {
   "cell_type": "markdown",
   "metadata": {},
   "source": [
    "## Start processing"
   ]
  },
  {
   "cell_type": "markdown",
   "metadata": {},
   "source": [
    "##### Getting all the spread periods with consecutive days first"
   ]
  },
  {
   "cell_type": "code",
   "execution_count": null,
   "metadata": {
    "scrolled": false
   },
   "outputs": [],
   "source": [
    "i = 0\n",
    "j = 1\n",
    "k = 2\n",
    "for i in range(0,len(Given_Country_Curve.index),3):\n",
    "\n",
    "    j = i+1\n",
    "    k = i+2\n",
    "    #print(i,j,k)\n",
    "    if( (k > Given_Country_Curve.index.max()) or (j > Given_Country_Curve.index.max())):\n",
    "        break\n",
    "      \n",
    "        #print(i,j,k)\n",
    "    elif( ((Given_Country_Curve.iloc[i]['Confirmed'] < Given_Country_Curve.iloc[j]['Confirmed'])\n",
    "       or (Given_Country_Curve.iloc[j]['Confirmed'] < Given_Country_Curve.iloc[k]['Confirmed']))\n",
    "       and\n",
    "        (int((Given_Country_Curve.iloc[k]['day'] - Given_Country_Curve.iloc[j]['day'])/np.timedelta64(1,'D')) ==1\n",
    "       and int((Given_Country_Curve.iloc[j]['day'] - Given_Country_Curve.iloc[i]['day'])/np.timedelta64(1,'D')) ==1)\n",
    "\n",
    "\n",
    "\n",
    "      ):\n",
    "\n",
    "        Longest_Spread.loc[-1] = [Given_Country_Curve.iloc[i]['day'], Given_Country_Curve.iloc[i]['Country Name'], Given_Country_Curve.iloc[i]['Confirmed']]\n",
    "        Longest_Spread.index = Longest_Spread.index + 1\n",
    "        Longest_Spread.loc[-1] = [Given_Country_Curve.iloc[j]['day'], Given_Country_Curve.iloc[j]['Country Name'], Given_Country_Curve.iloc[j]['Confirmed']]\n",
    "        Longest_Spread.index = Longest_Spread.index + 1\n",
    "        Longest_Spread.loc[-1] = [Given_Country_Curve.iloc[k]['day'], Given_Country_Curve.iloc[k]['Country Name'], Given_Country_Curve.iloc[k]['Confirmed']]\n",
    "        Longest_Spread.index = Longest_Spread.index + 1\n",
    "        \n",
    "    elif( ((Given_Country_Curve.iloc[k]['Confirmed'] < Given_Country_Curve.iloc[j]['Confirmed'])\n",
    "       or (Given_Country_Curve.iloc[j]['Confirmed'] < Given_Country_Curve.iloc[i]['Confirmed']))\n",
    "       \n",
    "\n",
    "\n",
    "        ):\n",
    "        pass"
   ]
  },
  {
   "cell_type": "markdown",
   "metadata": {},
   "source": [
    "##### Create groupings of consecutive spread period and identify the longest spread period between the groups"
   ]
  },
  {
   "cell_type": "code",
   "execution_count": null,
   "metadata": {},
   "outputs": [],
   "source": [
    "dt = Longest_Spread['day']\n",
    "day = pd.Timedelta('1d')\n",
    "in_block = ((dt - dt.shift(-1)).abs() == day) | (dt.diff() == day)\n",
    "#in_block\n",
    "filt = Longest_Spread.loc[in_block]\n",
    "breaks = filt['day'].diff() != day\n",
    "groups = breaks.cumsum()\n",
    "for index, row in filt.groupby(groups):\n",
    "     print(row, end='\\n\\n')"
   ]
  },
  {
   "cell_type": "markdown",
   "metadata": {},
   "source": [
    "##### Adding the grouping information to the original dataframe in order to seperate out the longest spread period"
   ]
  },
  {
   "cell_type": "code",
   "execution_count": null,
   "metadata": {},
   "outputs": [],
   "source": [
    "Longest_Spread['groups'] = groups\n",
    "#Longest_Spread.head(100)\n",
    "Max_Spread_Group = Longest_Spread['groups'].mode()\n",
    "Max_Spread = Max_Spread_Group[0]\n",
    "#print(Max_Spread)\n",
    "Mask =  Longest_Spread['groups']==Max_Spread\n",
    "Curve = Longest_Spread[Mask]\n",
    "#Curve.head(1000)"
   ]
  },
  {
   "cell_type": "markdown",
   "metadata": {},
   "source": [
    "##### Plotting out the longest spread period (please match this curve with the original curve shown few cells above to get better clarity of what is done so far)\n",
    "##### This contains the period where daily new cases tend to increase and also contains those days\n",
    "##### where new confirmed cases were relatively lower or none at all"
   ]
  },
  {
   "cell_type": "code",
   "execution_count": null,
   "metadata": {},
   "outputs": [],
   "source": [
    "Spread = px.line(Curve, x='day', y='Confirmed', title = 'Longest Spread Period')\n",
    "Spread.show()"
   ]
  },
  {
   "cell_type": "markdown",
   "metadata": {},
   "source": [
    "### Starting and ending days of the Longest Spread Period"
   ]
  },
  {
   "cell_type": "code",
   "execution_count": null,
   "metadata": {},
   "outputs": [],
   "source": [
    "Longest_Spread_List =[]\n",
    "for i in range(0,len(Curve.index)):\n",
    "    Longest_Spread_List.append(Curve.iloc[i]['Confirmed']) \n",
    "print(Longest_Spread_List)"
   ]
  },
  {
   "cell_type": "markdown",
   "metadata": {},
   "source": [
    "### The zeros in the begining are also included and are representing the starting days of the longest spread period"
   ]
  },
  {
   "cell_type": "markdown",
   "metadata": {},
   "source": [
    "#### And it is elapsing:"
   ]
  },
  {
   "cell_type": "code",
   "execution_count": null,
   "metadata": {},
   "outputs": [],
   "source": [
    "print(len(Longest_Spread_List))"
   ]
  },
  {
   "cell_type": "markdown",
   "metadata": {},
   "source": [
    "#### days starting from day 1"
   ]
  },
  {
   "cell_type": "markdown",
   "metadata": {},
   "source": [
    "### Now we return the actual elements required"
   ]
  },
  {
   "cell_type": "code",
   "execution_count": null,
   "metadata": {},
   "outputs": [],
   "source": [
    "ActualElements = Curve.reset_index()\n",
    "#ActualElements.head()\n",
    "ActualElements['Confirmed'] = pd.to_numeric(ActualElements['Confirmed'])\n",
    "Extraction = ActualElements[['Confirmed']].idxmax()\n",
    "Index = Extraction[0]\n",
    "#ActualElements.index[45]\n",
    "Collecting_Elements = []"
   ]
  },
  {
   "cell_type": "markdown",
   "metadata": {},
   "source": [
    "##### The commented out statements can be uncommented to see how the conditions are set up and can provide useful insight into how the task is acomplished"
   ]
  },
  {
   "cell_type": "code",
   "execution_count": null,
   "metadata": {},
   "outputs": [],
   "source": [
    "temp = 0\n",
    "for i in range(0,Index):\n",
    "#     print(\"outside i = \", i)\n",
    "    if(\n",
    "       ActualElements.iloc[i]['Confirmed'] < ActualElements.iloc[i+1]['Confirmed'] \n",
    "       and\n",
    "       ActualElements.iloc[i+1]['Confirmed'] > temp  \n",
    "       ):\n",
    "#         print(\"if i=\",i)\n",
    "#         print(\"if temp before = \",temp)\n",
    "#         print(\"if condition\",ActualElements.iloc[i]['Confirmed'],\"<\",ActualElements.iloc[i+1]['Confirmed'] ,\"&\",ActualElements.iloc[i+1]['Confirmed'],\">\",temp )\n",
    "          Collecting_Elements.append(ActualElements.iloc[i+1]['Confirmed'])\n",
    "          temp = ActualElements.iloc[i+1]['Confirmed']\n",
    "    elif (\n",
    "          ActualElements.iloc[i]['Confirmed'] > ActualElements.iloc[i+1]['Confirmed'] \n",
    "          and\n",
    "          ActualElements.iloc[i]['Confirmed'] > temp\n",
    "          ):\n",
    "#         print(\"elif i=\",i)\n",
    "#         print(\"elif temp before = \",temp)\n",
    "#         print(\"elif condition\",ActualElements.iloc[i]['Confirmed'],\">\",ActualElements.iloc[i+1]['Confirmed'] ,\"&\",ActualElements.iloc[i]['Confirmed'],\">\",temp )\n",
    "          Collecting_Elements.append(ActualElements.iloc[i]['Confirmed'])\n",
    "          temp = ActualElements.iloc[i]['Confirmed']\n",
    "        \n",
    "    \n",
    "        "
   ]
  },
  {
   "cell_type": "markdown",
   "metadata": {},
   "source": [
    "#### The Elements are :"
   ]
  },
  {
   "cell_type": "code",
   "execution_count": null,
   "metadata": {},
   "outputs": [],
   "source": [
    "print(Collecting_Elements)"
   ]
  },
  {
   "cell_type": "markdown",
   "metadata": {},
   "source": [
    "## 4) Using \"fbprophet\" to chart the progression of COVID-19 cases in the top 5 countries for the next 7 days and 30 days."
   ]
  },
  {
   "cell_type": "markdown",
   "metadata": {},
   "source": [
    "#### First we identify the top 5 infected countries"
   ]
  },
  {
   "cell_type": "code",
   "execution_count": null,
   "metadata": {},
   "outputs": [],
   "source": [
    "Top_5 = covid_data[['Country Name', 'Confirmed']].copy()\n",
    "Top_5 = Top_5.groupby([\"Country Name\"]).sum(axis = 1, skipna = True)\n",
    "Top_5.sort_values(by=['Confirmed'], ascending=False, inplace=True)\n",
    "Top_5.head(5)"
   ]
  },
  {
   "cell_type": "markdown",
   "metadata": {},
   "source": [
    "## United States Progression"
   ]
  },
  {
   "cell_type": "code",
   "execution_count": null,
   "metadata": {},
   "outputs": [],
   "source": [
    "# Copying only three columns from complete data\n",
    "Cases = covid_data[['day','Country Name', 'Confirmed']].copy()\n",
    "# Cases.head()\n",
    "# Creating Mask for united states data\n",
    "mask = Cases['Country Name'] == 'United States of America'\n",
    "# Seperating out United States Data\n",
    "United_States_of_America = Cases.loc[mask]\n",
    "# Keeping only the relevant columns of united states for timeseries prediction using prophet\n",
    "United_States_of_America = United_States_of_America[['day','Confirmed']].copy()\n",
    "# United_States_of_America.info()\n",
    "# Preparing for fbprophet\n",
    "United_States_of_America = United_States_of_America.rename(columns={'day': 'ds','Confirmed': 'y'})\n",
    "#United_States_of_America.head(100)\n",
    "United_States_of_America.set_index('ds')\n",
    "# Convert the column to numeric for training\n",
    "United_States_of_America['y'] = pd.to_numeric(United_States_of_America['y'])"
   ]
  },
  {
   "cell_type": "markdown",
   "metadata": {},
   "source": [
    "### Initialize the model and set seasonality to monthly since we dont have one comple year's data"
   ]
  },
  {
   "cell_type": "code",
   "execution_count": null,
   "metadata": {},
   "outputs": [],
   "source": [
    "United_States_Model = Prophet(interval_width=0.95)"
   ]
  },
  {
   "cell_type": "code",
   "execution_count": null,
   "metadata": {},
   "outputs": [],
   "source": [
    "United_States_Model.add_seasonality(name=\"monthly\",period = 30,fourier_order=5)"
   ]
  },
  {
   "cell_type": "markdown",
   "metadata": {},
   "source": [
    "### Fit the Data"
   ]
  },
  {
   "cell_type": "code",
   "execution_count": null,
   "metadata": {},
   "outputs": [],
   "source": [
    "United_States_Model.fit(United_States_of_America)"
   ]
  },
  {
   "cell_type": "markdown",
   "metadata": {},
   "source": [
    "### United States Chart the progression (How Next 7 days look like)"
   ]
  },
  {
   "cell_type": "code",
   "execution_count": null,
   "metadata": {},
   "outputs": [],
   "source": [
    "next_7_days = United_States_Model.make_future_dataframe(periods=7)\n",
    "#future_dates.tail(100)\n",
    "forecast = United_States_Model.predict(next_7_days)\n",
    "#forecast[['ds', 'yhat', 'yhat_lower', 'yhat_upper']].tail()\n",
    "#forecast.head(1000)\n",
    "py.init_notebook_mode()\n",
    "\n",
    "fig = plot_plotly(United_States_Model, forecast)  # This returns a plotly Figure\n",
    "py.iplot(fig)\n"
   ]
  },
  {
   "cell_type": "markdown",
   "metadata": {},
   "source": [
    "### United States Chart the progression (How Next 30 days look like)"
   ]
  },
  {
   "cell_type": "code",
   "execution_count": null,
   "metadata": {},
   "outputs": [],
   "source": [
    "next_30_days = United_States_Model.make_future_dataframe(periods=30)\n",
    "forecast = United_States_Model.predict(next_30_days)\n",
    "py.init_notebook_mode()\n",
    "fig = plot_plotly(United_States_Model, forecast)\n",
    "py.iplot(fig)"
   ]
  },
  {
   "cell_type": "markdown",
   "metadata": {},
   "source": [
    "### Components of United States Model (Trend, Weekly, Monthly)"
   ]
  },
  {
   "cell_type": "code",
   "execution_count": null,
   "metadata": {},
   "outputs": [],
   "source": [
    "py.init_notebook_mode()\n",
    "United_States_Model.plot_components(forecast)"
   ]
  },
  {
   "cell_type": "markdown",
   "metadata": {},
   "source": [
    "## United_States_Model Evaluation"
   ]
  },
  {
   "cell_type": "code",
   "execution_count": null,
   "metadata": {},
   "outputs": [],
   "source": [
    "us_df_cv = cross_validation(United_States_Model, initial='80 days', horizon = '3 days')\n",
    "us_df_cv.head()"
   ]
  },
  {
   "cell_type": "markdown",
   "metadata": {},
   "source": [
    "### United_States_Model Error"
   ]
  },
  {
   "cell_type": "markdown",
   "metadata": {},
   "source": [
    "### 3 days means its the 3rd day after the cutoff point"
   ]
  },
  {
   "cell_type": "code",
   "execution_count": null,
   "metadata": {},
   "outputs": [],
   "source": [
    "us_df_p = performance_metrics(us_df_cv)\n",
    "#us_df_p.to_csv('error.csv')\n",
    "us_df_p.head(100)"
   ]
  },
  {
   "cell_type": "markdown",
   "metadata": {},
   "source": [
    "### Due to horizon = 3 days which is relatively small the horizon defaults to hours in the figure below. This is an open issue in fbprophet and will be fixed in next version"
   ]
  },
  {
   "cell_type": "code",
   "execution_count": null,
   "metadata": {},
   "outputs": [],
   "source": [
    "us_fig = plot_cross_validation_metric(us_df_cv, metric='mape')\n",
    "us_fig.show()"
   ]
  },
  {
   "cell_type": "markdown",
   "metadata": {},
   "source": [
    "## Spain Progression"
   ]
  },
  {
   "cell_type": "code",
   "execution_count": null,
   "metadata": {},
   "outputs": [],
   "source": [
    "Cases = covid_data[['day','Country Name', 'Confirmed']].copy()\n",
    "mask = Cases['Country Name'] == 'Spain'\n",
    "Spain = Cases.loc[mask]\n",
    "Spain = Spain[['day','Confirmed']].copy()\n",
    "Spain = Spain.rename(columns={'day': 'ds','Confirmed': 'y'})\n",
    "Spain.set_index('ds')\n",
    "Spain['y'] = pd.to_numeric(Spain['y'])\n",
    "Spain_Model = Prophet(interval_width=0.95)\n",
    "Spain_Model.add_seasonality(name=\"monthly\",period = 30,fourier_order=5)\n",
    "Spain_Model.fit(Spain)"
   ]
  },
  {
   "cell_type": "markdown",
   "metadata": {},
   "source": [
    "### Spain Chart the progression (How Next 7 days look like)"
   ]
  },
  {
   "cell_type": "code",
   "execution_count": null,
   "metadata": {},
   "outputs": [],
   "source": [
    "spain_next_7_days = Spain_Model.make_future_dataframe(periods=7)\n",
    "spain_forecast = Spain_Model.predict(spain_next_7_days)\n",
    "py.init_notebook_mode()\n",
    "spain_fig = plot_plotly(Spain_Model, spain_forecast)\n",
    "py.iplot(spain_fig)"
   ]
  },
  {
   "cell_type": "markdown",
   "metadata": {},
   "source": [
    "### Spain Chart the progression (How Next 30 days look like)"
   ]
  },
  {
   "cell_type": "code",
   "execution_count": null,
   "metadata": {},
   "outputs": [],
   "source": [
    "spain_next_30_days = Spain_Model.make_future_dataframe(periods=30)\n",
    "spain_forecast = Spain_Model.predict(spain_next_30_days)\n",
    "py.init_notebook_mode()\n",
    "spain_fig = plot_plotly(Spain_Model, spain_forecast)\n",
    "py.iplot(spain_fig)"
   ]
  },
  {
   "cell_type": "markdown",
   "metadata": {},
   "source": [
    "### Components of Spain Model (Trend, Weekly, Monthly)"
   ]
  },
  {
   "cell_type": "code",
   "execution_count": null,
   "metadata": {},
   "outputs": [],
   "source": [
    "py.init_notebook_mode()\n",
    "Spain_Model.plot_components(spain_forecast)"
   ]
  },
  {
   "cell_type": "markdown",
   "metadata": {},
   "source": [
    "## Spain_Model Evaluation"
   ]
  },
  {
   "cell_type": "code",
   "execution_count": null,
   "metadata": {},
   "outputs": [],
   "source": [
    "# Data in initial needs to be roughly 3 times the horizon so check how much data is there for the given country \n",
    "Spain.shape"
   ]
  },
  {
   "cell_type": "code",
   "execution_count": null,
   "metadata": {},
   "outputs": [],
   "source": [
    "spain_df_cv = cross_validation(Spain_Model, initial='70 days', horizon = '3 days')\n",
    "spain_df_cv.head()"
   ]
  },
  {
   "cell_type": "markdown",
   "metadata": {},
   "source": [
    "### Spain_Model Error"
   ]
  },
  {
   "cell_type": "code",
   "execution_count": null,
   "metadata": {},
   "outputs": [],
   "source": [
    "spain_df_p = performance_metrics(spain_df_cv)\n",
    "spain_df_p.head(100)"
   ]
  },
  {
   "cell_type": "markdown",
   "metadata": {},
   "source": [
    "### Plotting the cross validation error (Metric: RMSE)"
   ]
  },
  {
   "cell_type": "code",
   "execution_count": null,
   "metadata": {},
   "outputs": [],
   "source": [
    "spain_fig = plot_cross_validation_metric(spain_df_cv, metric='rmse')\n",
    "spain_fig.show()"
   ]
  },
  {
   "cell_type": "markdown",
   "metadata": {},
   "source": [
    "## Italy Progression"
   ]
  },
  {
   "cell_type": "code",
   "execution_count": null,
   "metadata": {},
   "outputs": [],
   "source": [
    "Italy_Cases = covid_data[['day','Country Name', 'Confirmed']].copy()\n",
    "mask = Italy_Cases['Country Name'] == 'Italy'\n",
    "Italy = Italy_Cases.loc[mask]\n",
    "Italy = Italy[['day','Confirmed']].copy()\n",
    "Italy = Italy.rename(columns={'day': 'ds','Confirmed': 'y'})\n",
    "Italy.set_index('ds')\n",
    "Italy['y'] = pd.to_numeric(Italy['y'])\n",
    "Italy_Model = Prophet(interval_width=0.95)\n",
    "Italy_Model.add_seasonality(name=\"monthly\",period = 30,fourier_order=5)\n",
    "Italy_Model.fit(Italy)"
   ]
  },
  {
   "cell_type": "markdown",
   "metadata": {},
   "source": [
    "### Italy Chart the progression (How Next 7 days look like)"
   ]
  },
  {
   "cell_type": "code",
   "execution_count": null,
   "metadata": {},
   "outputs": [],
   "source": [
    "Italy_next_7_days = Italy_Model.make_future_dataframe(periods=7)\n",
    "Italy_forecast = Italy_Model.predict(Italy_next_7_days)\n",
    "py.init_notebook_mode()\n",
    "Italy_fig = plot_plotly(Italy_Model, Italy_forecast)\n",
    "py.iplot(Italy_fig)"
   ]
  },
  {
   "cell_type": "markdown",
   "metadata": {},
   "source": [
    "### Italy Chart the progression (How Next 30 days look like)"
   ]
  },
  {
   "cell_type": "code",
   "execution_count": null,
   "metadata": {},
   "outputs": [],
   "source": [
    "Italy_next_30_days = Italy_Model.make_future_dataframe(periods=30)\n",
    "Italy_forecast = Italy_Model.predict(Italy_next_30_days)\n",
    "py.init_notebook_mode()\n",
    "Italy_fig = plot_plotly(Italy_Model, Italy_forecast)\n",
    "py.iplot(Italy_fig)"
   ]
  },
  {
   "cell_type": "markdown",
   "metadata": {},
   "source": [
    "### Components of Italy Model (Trend, Weekly, Monthly)"
   ]
  },
  {
   "cell_type": "code",
   "execution_count": null,
   "metadata": {},
   "outputs": [],
   "source": [
    "py.init_notebook_mode()\n",
    "Italy_Model.plot_components(Italy_forecast)"
   ]
  },
  {
   "cell_type": "markdown",
   "metadata": {},
   "source": [
    "## Italy_Model Evaluation"
   ]
  },
  {
   "cell_type": "code",
   "execution_count": null,
   "metadata": {},
   "outputs": [],
   "source": [
    "Italy.shape"
   ]
  },
  {
   "cell_type": "code",
   "execution_count": null,
   "metadata": {},
   "outputs": [],
   "source": [
    "Italy_df_cv = cross_validation(Italy_Model, initial='70 days', horizon = '3 days')\n",
    "Italy_df_cv.head()"
   ]
  },
  {
   "cell_type": "markdown",
   "metadata": {},
   "source": [
    "### Italy_Model Error"
   ]
  },
  {
   "cell_type": "code",
   "execution_count": null,
   "metadata": {},
   "outputs": [],
   "source": [
    "Italy_df_p = performance_metrics(Italy_df_cv)\n",
    "Italy_df_p.head(100)"
   ]
  },
  {
   "cell_type": "markdown",
   "metadata": {},
   "source": [
    "### Plotting the cross validation error (Metric: RMSE)"
   ]
  },
  {
   "cell_type": "code",
   "execution_count": null,
   "metadata": {},
   "outputs": [],
   "source": [
    "Italy_fig = plot_cross_validation_metric(Italy_df_cv, metric='rmse')\n",
    "Italy_fig.show()"
   ]
  },
  {
   "cell_type": "markdown",
   "metadata": {},
   "source": [
    "## Germany Progression"
   ]
  },
  {
   "cell_type": "code",
   "execution_count": null,
   "metadata": {},
   "outputs": [],
   "source": [
    "Germany_Cases = covid_data[['day','Country Name', 'Confirmed']].copy()\n",
    "mask = Germany_Cases['Country Name'] == 'Germany'\n",
    "Germany = Germany_Cases.loc[mask]\n",
    "Germany = Germany[['day','Confirmed']].copy()\n",
    "Germany = Germany.rename(columns={'day': 'ds','Confirmed': 'y'})\n",
    "Germany.set_index('ds')\n",
    "Germany['y'] = pd.to_numeric(Germany['y'])\n",
    "Germany_Model = Prophet(interval_width=0.95)\n",
    "Germany_Model.add_seasonality(name=\"monthly\",period = 30,fourier_order=5)\n",
    "Germany_Model.fit(Germany)"
   ]
  },
  {
   "cell_type": "markdown",
   "metadata": {},
   "source": [
    "### Germany Chart the progression (How Next 7 days look like)"
   ]
  },
  {
   "cell_type": "code",
   "execution_count": null,
   "metadata": {},
   "outputs": [],
   "source": [
    "Germany_next_7_days = Germany_Model.make_future_dataframe(periods=7)\n",
    "Germany_forecast = Germany_Model.predict(Germany_next_7_days)\n",
    "py.init_notebook_mode()\n",
    "Germany_fig = plot_plotly(Germany_Model, Germany_forecast)\n",
    "py.iplot(Germany_fig)"
   ]
  },
  {
   "cell_type": "markdown",
   "metadata": {},
   "source": [
    "### Germany Chart the progression (How Next 30 days look like)"
   ]
  },
  {
   "cell_type": "code",
   "execution_count": null,
   "metadata": {},
   "outputs": [],
   "source": [
    "Germany_next_30_days = Germany_Model.make_future_dataframe(periods=30)\n",
    "Germany_forecast = Germany_Model.predict(Germany_next_30_days)\n",
    "py.init_notebook_mode()\n",
    "Germany_fig = plot_plotly(Germany_Model, Germany_forecast)\n",
    "py.iplot(Germany_fig)"
   ]
  },
  {
   "cell_type": "markdown",
   "metadata": {},
   "source": [
    "### Components of Germany Model (Trend, Weekly, Monthly)"
   ]
  },
  {
   "cell_type": "code",
   "execution_count": null,
   "metadata": {},
   "outputs": [],
   "source": [
    "py.init_notebook_mode()\n",
    "Germany_Model.plot_components(Germany_forecast)"
   ]
  },
  {
   "cell_type": "markdown",
   "metadata": {},
   "source": [
    "## Germany_Model Evaluation"
   ]
  },
  {
   "cell_type": "code",
   "execution_count": null,
   "metadata": {},
   "outputs": [],
   "source": [
    "Germany.shape"
   ]
  },
  {
   "cell_type": "code",
   "execution_count": null,
   "metadata": {},
   "outputs": [],
   "source": [
    "Germany_df_cv = cross_validation(Germany_Model, initial='70 days', horizon = '3 days')\n",
    "Germany_df_cv.head()"
   ]
  },
  {
   "cell_type": "markdown",
   "metadata": {},
   "source": [
    "### Germany_Model Error"
   ]
  },
  {
   "cell_type": "code",
   "execution_count": null,
   "metadata": {},
   "outputs": [],
   "source": [
    "Germany_df_p = performance_metrics(Germany_df_cv)\n",
    "Germany_df_p.head(100)"
   ]
  },
  {
   "cell_type": "markdown",
   "metadata": {},
   "source": [
    "### Plotting the cross validation error (Metric: RMSE)"
   ]
  },
  {
   "cell_type": "code",
   "execution_count": null,
   "metadata": {},
   "outputs": [],
   "source": [
    "Germany_fig = plot_cross_validation_metric(Germany_df_cv, metric='rmse')\n",
    "Germany_fig.show()"
   ]
  },
  {
   "cell_type": "code",
   "execution_count": null,
   "metadata": {},
   "outputs": [],
   "source": []
  },
  {
   "cell_type": "markdown",
   "metadata": {},
   "source": [
    "## France Progression"
   ]
  },
  {
   "cell_type": "code",
   "execution_count": null,
   "metadata": {},
   "outputs": [],
   "source": [
    "France_Cases = covid_data[['day','Country Name', 'Confirmed']].copy()\n",
    "mask = France_Cases['Country Name'] == 'France'\n",
    "France = France_Cases.loc[mask]\n",
    "France = France[['day','Confirmed']].copy()\n",
    "France = France.rename(columns={'day': 'ds','Confirmed': 'y'})\n",
    "France.set_index('ds')\n",
    "France['y'] = pd.to_numeric(France['y'])\n",
    "France_Model = Prophet(interval_width=0.95)\n",
    "France_Model.add_seasonality(name=\"monthly\",period = 30,fourier_order=5)\n",
    "France_Model.fit(France)"
   ]
  },
  {
   "cell_type": "markdown",
   "metadata": {},
   "source": [
    "### France Chart the progression (How Next 7 days look like)"
   ]
  },
  {
   "cell_type": "code",
   "execution_count": null,
   "metadata": {},
   "outputs": [],
   "source": [
    "France_next_7_days = France_Model.make_future_dataframe(periods=7)\n",
    "France_forecast = France_Model.predict(France_next_7_days)\n",
    "py.init_notebook_mode()\n",
    "France_fig = plot_plotly(France_Model, France_forecast)\n",
    "py.iplot(France_fig)"
   ]
  },
  {
   "cell_type": "markdown",
   "metadata": {},
   "source": [
    "### France Chart the progression (How Next 30 days look like)"
   ]
  },
  {
   "cell_type": "code",
   "execution_count": null,
   "metadata": {},
   "outputs": [],
   "source": [
    "France_next_30_days = France_Model.make_future_dataframe(periods=30)\n",
    "France_forecast = France_Model.predict(France_next_30_days)\n",
    "py.init_notebook_mode()\n",
    "France_fig = plot_plotly(France_Model, France_forecast)\n",
    "py.iplot(France_fig)"
   ]
  },
  {
   "cell_type": "markdown",
   "metadata": {},
   "source": [
    "### Components of France_Model (Trend, Weekly, Monthly)"
   ]
  },
  {
   "cell_type": "code",
   "execution_count": null,
   "metadata": {},
   "outputs": [],
   "source": [
    "py.init_notebook_mode()\n",
    "France_Model.plot_components(France_forecast)"
   ]
  },
  {
   "cell_type": "markdown",
   "metadata": {},
   "source": [
    "## France_Model Evaluation"
   ]
  },
  {
   "cell_type": "code",
   "execution_count": null,
   "metadata": {},
   "outputs": [],
   "source": [
    "France.shape"
   ]
  },
  {
   "cell_type": "code",
   "execution_count": null,
   "metadata": {},
   "outputs": [],
   "source": [
    "France_df_cv = cross_validation(France_Model, initial='80 days', horizon = '3 days')\n",
    "France_df_cv.head()"
   ]
  },
  {
   "cell_type": "markdown",
   "metadata": {},
   "source": [
    "### France_Model Error"
   ]
  },
  {
   "cell_type": "code",
   "execution_count": null,
   "metadata": {},
   "outputs": [],
   "source": [
    "France_df_p = performance_metrics(France_df_cv)\n",
    "France_df_p.head(100)"
   ]
  },
  {
   "cell_type": "markdown",
   "metadata": {},
   "source": [
    "### Plotting the cross validation error (Metric: RMSE)"
   ]
  },
  {
   "cell_type": "code",
   "execution_count": null,
   "metadata": {},
   "outputs": [],
   "source": [
    "France_fig = plot_cross_validation_metric(France_df_cv, metric='rmse')\n",
    "France_fig.show()"
   ]
  },
  {
   "cell_type": "markdown",
   "metadata": {},
   "source": [
    "# Exploratory Data Analysis"
   ]
  },
  {
   "cell_type": "markdown",
   "metadata": {},
   "source": [
    "### Most Infected Country (United States) Confirmed Cases & Deaths From Start (20th Jan) to End (16th Apr) "
   ]
  },
  {
   "cell_type": "code",
   "execution_count": null,
   "metadata": {},
   "outputs": [],
   "source": [
    "# Creating Mask for united states data\n",
    "EDA_mask = covid_data['Country Name'] == 'United States of America'\n",
    "US_EDA = covid_data[EDA_mask]\n",
    "US_EDA.head()\n",
    "fig = px.line(US_EDA, x='day', y='Confirmed',title=\"Infections in United States of America\")\n",
    "fig.show()"
   ]
  },
  {
   "cell_type": "code",
   "execution_count": null,
   "metadata": {},
   "outputs": [],
   "source": [
    "Deaths = px.line(US_EDA, x='day', y='Deaths', title = 'Deaths in United States of America')\n",
    "Deaths.update_xaxes(rangeslider_visible=True)\n",
    "Deaths.show()"
   ]
  },
  {
   "cell_type": "markdown",
   "metadata": {},
   "source": [
    "#### Identifying the above trend line Methametically using first degree polynomial"
   ]
  },
  {
   "cell_type": "code",
   "execution_count": null,
   "metadata": {},
   "outputs": [],
   "source": [
    "def trendline(data, order=1):\n",
    "    coeffs = np.polyfit(data.index.values, list(data), order)\n",
    "    slope = coeffs[-2]\n",
    "    return float(slope)\n",
    "\n",
    "\n",
    "\n",
    "\n",
    "slope = trendline(US_EDA['Confirmed'])\n",
    "print(slope)"
   ]
  },
  {
   "cell_type": "markdown",
   "metadata": {},
   "source": [
    "# Summary of World Wide COVID Cases by Infections and Deaths "
   ]
  },
  {
   "cell_type": "code",
   "execution_count": null,
   "metadata": {},
   "outputs": [],
   "source": [
    "df_per_day = covid_data[['day', 'Confirmed','Deaths']].copy()\n",
    "df_per_day.set_index('day', inplace=True)\n",
    "df_per_day = df_per_day.sort_values(by = 'day')\n",
    "df_per_day = df_per_day.groupby('day')[['Confirmed','Deaths']].sum()\n",
    "df_per_day.describe()"
   ]
  },
  {
   "cell_type": "markdown",
   "metadata": {},
   "source": [
    "## Plotting Worldwide Infections & Deaths Per day"
   ]
  },
  {
   "cell_type": "code",
   "execution_count": null,
   "metadata": {},
   "outputs": [],
   "source": [
    "#colli_deaths = pd.DataFrame({'collisions':collisions_by_date, 'deaths':deaths_by_date })\n",
    "\n",
    "color1 = '#9467bd'\n",
    "color2 = '#F08B00'\n",
    "\n",
    "trace1 = go.Scatter(\n",
    "    x = df_per_day.index,\n",
    "    y = df_per_day['Confirmed'],\n",
    "    mode='lines',\n",
    "    name='Confirmed',\n",
    "    line = dict(\n",
    "        color = color1\n",
    "    )\n",
    ")\n",
    "trace2 = go.Scatter(\n",
    "    x= df_per_day.index,\n",
    "    y =df_per_day['Deaths'] ,\n",
    "    mode='lines',\n",
    "    name='Deaths',\n",
    "    line = dict(\n",
    "        color = color2\n",
    "    )\n",
    "\n",
    ")\n",
    "data = [trace1, trace2]\n",
    "layout = go.Layout(\n",
    "    title= \"Worldwide Infections & Deaths Per Day\",\n",
    "    yaxis=dict(\n",
    "        title='Numbers',\n",
    "        titlefont=dict(\n",
    "            color=color1\n",
    "        ),\n",
    "        tickfont=dict(\n",
    "            color=color1\n",
    "        )\n",
    "    ),\n",
    "    yaxis2=dict(\n",
    "        title='deaths',\n",
    "        overlaying='y',\n",
    "        side='right',\n",
    "        titlefont=dict(\n",
    "            color=color2\n",
    "        ),\n",
    "        tickfont=dict(\n",
    "            color=color2\n",
    "        )\n",
    "\n",
    "    ),\n",
    "    \n",
    "    xaxis=dict(\n",
    "        rangeslider=dict(\n",
    "            visible = True\n",
    "        ),\n",
    "        type='date',\n",
    "    ),\n",
    "\n",
    ")\n",
    "fig = go.Figure(data=data, layout=layout)\n",
    "plot_url = py.iplot(fig)"
   ]
  },
  {
   "cell_type": "markdown",
   "metadata": {},
   "source": [
    "# Infection Fatality Rate in Top 5 Infected Countries"
   ]
  },
  {
   "cell_type": "code",
   "execution_count": null,
   "metadata": {},
   "outputs": [],
   "source": [
    "Death_Rate = covid_data[['Country Name', 'Deaths','Confirmed']].copy()\n",
    "Death_Rate = Death_Rate.groupby([\"Country Name\"]).sum(axis = 1, skipna = True)\n",
    "Death_Rate.sort_values(by=['Confirmed'], ascending=False, inplace=True)\n",
    "Death_Rate['Death_Rate'] = (Death_Rate['Deaths']/Death_Rate['Confirmed'])*100\n",
    "Death_Rate.head(5)"
   ]
  },
  {
   "cell_type": "markdown",
   "metadata": {},
   "source": [
    "### On Average how many days until the Peak is hit"
   ]
  },
  {
   "cell_type": "code",
   "execution_count": null,
   "metadata": {},
   "outputs": [],
   "source": [
    "Peak = covid_data[['day','Country Name', 'Confirmed']].copy()\n",
    "Peak['Confirmed'] = pd.to_numeric(Peak['Confirmed'])\n",
    "list = ['United States of America','Spain','Italy','Germany','France']\n",
    "days_count = []\n",
    "for i in list:\n",
    "    Country = Peak[Peak['Country Name'] == i]\n",
    "    Country.sort_values(by=['day'],inplace=True)\n",
    "    Country.reset_index(drop=True, inplace=True)\n",
    "    Index = [Country['Confirmed'].idxmax()]\n",
    "    Index = Index[0]\n",
    "    days_count.append(Index)\n",
    "print(\"Days\",days_count)  \n",
    "print(\"Average\",sum(days_count)/len(days_count)) "
   ]
  },
  {
   "cell_type": "markdown",
   "metadata": {},
   "source": [
    "## It takes about 63 days for a contry to hit the peak after which the cases starts to go down"
   ]
  },
  {
   "cell_type": "markdown",
   "metadata": {},
   "source": [
    "## Worldwide Cumulitive Confirmed"
   ]
  },
  {
   "cell_type": "code",
   "execution_count": null,
   "metadata": {},
   "outputs": [],
   "source": [
    "Cumulative_Confirmed = covid_data[['day','Country Name', 'Cumulative Confirmed']].copy()\n",
    "Cumulative_Confirmed.reset_index()\n",
    "Cumulative_Confirmed['Cumulative Confirmed'] = pd.to_numeric(Cumulative_Confirmed['Cumulative Confirmed'])\n",
    "Cumulative_Confirmed = Cumulative_Confirmed.sort_values(by = 'day')\n",
    "Cumulative_Confirmed = Cumulative_Confirmed.groupby('day')[['Cumulative Confirmed']].sum()\n",
    "Cumulative_Bar_Graph = Cumulative_Confirmed\n",
    "Cumulative_Bar_Graph['Country Name'] = Cumulative_Bar_Graph.index\n",
    "Cumulative = px.bar(Cumulative_Bar_Graph,x=Cumulative_Confirmed.index,y=Cumulative_Confirmed['Cumulative Confirmed'], title = \"Cumulative Confirmed Across World\")\n",
    "Cumulative.update_layout(xaxis_title=\"Dates\")\n",
    "Cumulative.show()"
   ]
  },
  {
   "cell_type": "markdown",
   "metadata": {},
   "source": [
    "## Worldwide Cumulitive Deaths"
   ]
  },
  {
   "cell_type": "code",
   "execution_count": null,
   "metadata": {},
   "outputs": [],
   "source": [
    "Cumulative_Deaths = covid_data[['day','Country Name', 'Cumulative Deaths']].copy()\n",
    "Cumulative_Deaths.reset_index()\n",
    "Cumulative_Deaths['Cumulative Deaths'] = pd.to_numeric(Cumulative_Deaths['Cumulative Deaths'])\n",
    "Cumulative_Deaths = Cumulative_Deaths.sort_values(by = 'day')\n",
    "Cumulative_Deaths = Cumulative_Deaths.groupby('day')[['Cumulative Deaths']].sum()\n",
    "Cumulative_Bar_Graph = Cumulative_Deaths\n",
    "Cumulative_Bar_Graph['Country Name'] = Cumulative_Bar_Graph.index\n",
    "Cumulative = px.bar(Cumulative_Bar_Graph,x=Cumulative_Deaths.index,y=Cumulative_Deaths['Cumulative Deaths'], title = \"Cumulative Deaths Across World\")\n",
    "Cumulative.update_layout(xaxis_title=\"Dates\")\n",
    "Cumulative.show()"
   ]
  },
  {
   "cell_type": "markdown",
   "metadata": {},
   "source": [
    "## Interactive Plot (Confirmed Cases Across Different Countries)"
   ]
  },
  {
   "cell_type": "code",
   "execution_count": null,
   "metadata": {},
   "outputs": [],
   "source": [
    "def plotcountry(Country):\n",
    "    EDA_mask = covid_data['Country Name'] == Country\n",
    "    EDA = covid_data[EDA_mask]\n",
    "    fig = px.line(EDA, x='day', y='Confirmed',title='Daily Confirmed Cases across '+Country)\n",
    "    fig.update_layout(showlegend=False)\n",
    "    return fig\n",
    "\n",
    "\n",
    "Names = covid_data['Country Name'].unique()\n",
    "interact(plotcountry, Country=widgets.Dropdown(options=Names))"
   ]
  },
  {
   "cell_type": "markdown",
   "metadata": {},
   "source": [
    "## Interactive Plot (Deaths Across Different Countries)"
   ]
  },
  {
   "cell_type": "code",
   "execution_count": null,
   "metadata": {},
   "outputs": [],
   "source": [
    "def Deaths_Plot(Country):\n",
    "    EDA_mask = covid_data['Country Name'] == Country\n",
    "    EDA = covid_data[EDA_mask]\n",
    "    fig = px.line(EDA, x='day', y='Deaths',title='Daily Deaths across '+Country)\n",
    "    fig.update_layout(showlegend=False)\n",
    "    return fig\n",
    "\n",
    "\n",
    "Names = covid_data['Country Name'].unique()\n",
    "interact(Deaths_Plot, Country=widgets.Dropdown(options=Names))"
   ]
  },
  {
   "cell_type": "code",
   "execution_count": null,
   "metadata": {},
   "outputs": [],
   "source": []
  }
 ],
 "metadata": {
  "kernelspec": {
   "display_name": "Python 3",
   "language": "python",
   "name": "python3"
  },
  "language_info": {
   "codemirror_mode": {
    "name": "ipython",
    "version": 3
   },
   "file_extension": ".py",
   "mimetype": "text/x-python",
   "name": "python",
   "nbconvert_exporter": "python",
   "pygments_lexer": "ipython3",
   "version": "3.7.4"
  }
 },
 "nbformat": 4,
 "nbformat_minor": 2
}
